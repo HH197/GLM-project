{
  "nbformat": 4,
  "nbformat_minor": 0,
  "metadata": {
    "colab": {
      "name": "hist_gradient_non_para.ipynb",
      "provenance": [],
      "authorship_tag": "ABX9TyMKWtnlIHf4tsdV6RhQJAAO",
      "include_colab_link": true
    },
    "kernelspec": {
      "name": "python3",
      "display_name": "Python 3"
    },
    "language_info": {
      "name": "python"
    }
  },
  "cells": [
    {
      "cell_type": "markdown",
      "metadata": {
        "id": "view-in-github",
        "colab_type": "text"
      },
      "source": [
        "<a href=\"https://colab.research.google.com/github/HH197/GLM-project/blob/main/hist_gradient_non_para.ipynb\" target=\"_parent\"><img src=\"https://colab.research.google.com/assets/colab-badge.svg\" alt=\"Open In Colab\"/></a>"
      ]
    },
    {
      "cell_type": "code",
      "execution_count": 1,
      "metadata": {
        "id": "lvGdDRLroIU0",
        "outputId": "51aef240-562b-4e6b-9626-74bf99165cc6",
        "colab": {
          "base_uri": "https://localhost:8080/"
        }
      },
      "outputs": [
        {
          "output_type": "stream",
          "name": "stdout",
          "text": [
            "Collecting geopandas\n",
            "  Downloading geopandas-0.10.2-py2.py3-none-any.whl (1.0 MB)\n",
            "\u001b[?25l\r\u001b[K     |▎                               | 10 kB 22.6 MB/s eta 0:00:01\r\u001b[K     |▋                               | 20 kB 15.1 MB/s eta 0:00:01\r\u001b[K     |█                               | 30 kB 8.3 MB/s eta 0:00:01\r\u001b[K     |█▎                              | 40 kB 9.0 MB/s eta 0:00:01\r\u001b[K     |█▋                              | 51 kB 7.6 MB/s eta 0:00:01\r\u001b[K     |██                              | 61 kB 8.9 MB/s eta 0:00:01\r\u001b[K     |██▎                             | 71 kB 9.0 MB/s eta 0:00:01\r\u001b[K     |██▌                             | 81 kB 9.1 MB/s eta 0:00:01\r\u001b[K     |██▉                             | 92 kB 10.0 MB/s eta 0:00:01\r\u001b[K     |███▏                            | 102 kB 10.1 MB/s eta 0:00:01\r\u001b[K     |███▌                            | 112 kB 10.1 MB/s eta 0:00:01\r\u001b[K     |███▉                            | 122 kB 10.1 MB/s eta 0:00:01\r\u001b[K     |████▏                           | 133 kB 10.1 MB/s eta 0:00:01\r\u001b[K     |████▌                           | 143 kB 10.1 MB/s eta 0:00:01\r\u001b[K     |████▊                           | 153 kB 10.1 MB/s eta 0:00:01\r\u001b[K     |█████                           | 163 kB 10.1 MB/s eta 0:00:01\r\u001b[K     |█████▍                          | 174 kB 10.1 MB/s eta 0:00:01\r\u001b[K     |█████▊                          | 184 kB 10.1 MB/s eta 0:00:01\r\u001b[K     |██████                          | 194 kB 10.1 MB/s eta 0:00:01\r\u001b[K     |██████▍                         | 204 kB 10.1 MB/s eta 0:00:01\r\u001b[K     |██████▊                         | 215 kB 10.1 MB/s eta 0:00:01\r\u001b[K     |███████                         | 225 kB 10.1 MB/s eta 0:00:01\r\u001b[K     |███████▎                        | 235 kB 10.1 MB/s eta 0:00:01\r\u001b[K     |███████▋                        | 245 kB 10.1 MB/s eta 0:00:01\r\u001b[K     |████████                        | 256 kB 10.1 MB/s eta 0:00:01\r\u001b[K     |████████▎                       | 266 kB 10.1 MB/s eta 0:00:01\r\u001b[K     |████████▋                       | 276 kB 10.1 MB/s eta 0:00:01\r\u001b[K     |█████████                       | 286 kB 10.1 MB/s eta 0:00:01\r\u001b[K     |█████████▏                      | 296 kB 10.1 MB/s eta 0:00:01\r\u001b[K     |█████████▌                      | 307 kB 10.1 MB/s eta 0:00:01\r\u001b[K     |█████████▉                      | 317 kB 10.1 MB/s eta 0:00:01\r\u001b[K     |██████████▏                     | 327 kB 10.1 MB/s eta 0:00:01\r\u001b[K     |██████████▌                     | 337 kB 10.1 MB/s eta 0:00:01\r\u001b[K     |██████████▉                     | 348 kB 10.1 MB/s eta 0:00:01\r\u001b[K     |███████████▏                    | 358 kB 10.1 MB/s eta 0:00:01\r\u001b[K     |███████████▍                    | 368 kB 10.1 MB/s eta 0:00:01\r\u001b[K     |███████████▊                    | 378 kB 10.1 MB/s eta 0:00:01\r\u001b[K     |████████████                    | 389 kB 10.1 MB/s eta 0:00:01\r\u001b[K     |████████████▍                   | 399 kB 10.1 MB/s eta 0:00:01\r\u001b[K     |████████████▊                   | 409 kB 10.1 MB/s eta 0:00:01\r\u001b[K     |█████████████                   | 419 kB 10.1 MB/s eta 0:00:01\r\u001b[K     |█████████████▍                  | 430 kB 10.1 MB/s eta 0:00:01\r\u001b[K     |█████████████▋                  | 440 kB 10.1 MB/s eta 0:00:01\r\u001b[K     |██████████████                  | 450 kB 10.1 MB/s eta 0:00:01\r\u001b[K     |██████████████▎                 | 460 kB 10.1 MB/s eta 0:00:01\r\u001b[K     |██████████████▋                 | 471 kB 10.1 MB/s eta 0:00:01\r\u001b[K     |███████████████                 | 481 kB 10.1 MB/s eta 0:00:01\r\u001b[K     |███████████████▎                | 491 kB 10.1 MB/s eta 0:00:01\r\u001b[K     |███████████████▋                | 501 kB 10.1 MB/s eta 0:00:01\r\u001b[K     |███████████████▉                | 512 kB 10.1 MB/s eta 0:00:01\r\u001b[K     |████████████████▏               | 522 kB 10.1 MB/s eta 0:00:01\r\u001b[K     |████████████████▌               | 532 kB 10.1 MB/s eta 0:00:01\r\u001b[K     |████████████████▉               | 542 kB 10.1 MB/s eta 0:00:01\r\u001b[K     |█████████████████▏              | 552 kB 10.1 MB/s eta 0:00:01\r\u001b[K     |█████████████████▌              | 563 kB 10.1 MB/s eta 0:00:01\r\u001b[K     |█████████████████▉              | 573 kB 10.1 MB/s eta 0:00:01\r\u001b[K     |██████████████████              | 583 kB 10.1 MB/s eta 0:00:01\r\u001b[K     |██████████████████▍             | 593 kB 10.1 MB/s eta 0:00:01\r\u001b[K     |██████████████████▊             | 604 kB 10.1 MB/s eta 0:00:01\r\u001b[K     |███████████████████             | 614 kB 10.1 MB/s eta 0:00:01\r\u001b[K     |███████████████████▍            | 624 kB 10.1 MB/s eta 0:00:01\r\u001b[K     |███████████████████▊            | 634 kB 10.1 MB/s eta 0:00:01\r\u001b[K     |████████████████████            | 645 kB 10.1 MB/s eta 0:00:01\r\u001b[K     |████████████████████▎           | 655 kB 10.1 MB/s eta 0:00:01\r\u001b[K     |████████████████████▋           | 665 kB 10.1 MB/s eta 0:00:01\r\u001b[K     |█████████████████████           | 675 kB 10.1 MB/s eta 0:00:01\r\u001b[K     |█████████████████████▎          | 686 kB 10.1 MB/s eta 0:00:01\r\u001b[K     |█████████████████████▋          | 696 kB 10.1 MB/s eta 0:00:01\r\u001b[K     |██████████████████████          | 706 kB 10.1 MB/s eta 0:00:01\r\u001b[K     |██████████████████████▎         | 716 kB 10.1 MB/s eta 0:00:01\r\u001b[K     |██████████████████████▋         | 727 kB 10.1 MB/s eta 0:00:01\r\u001b[K     |██████████████████████▉         | 737 kB 10.1 MB/s eta 0:00:01\r\u001b[K     |███████████████████████▏        | 747 kB 10.1 MB/s eta 0:00:01\r\u001b[K     |███████████████████████▌        | 757 kB 10.1 MB/s eta 0:00:01\r\u001b[K     |███████████████████████▉        | 768 kB 10.1 MB/s eta 0:00:01\r\u001b[K     |████████████████████████▏       | 778 kB 10.1 MB/s eta 0:00:01\r\u001b[K     |████████████████████████▌       | 788 kB 10.1 MB/s eta 0:00:01\r\u001b[K     |████████████████████████▉       | 798 kB 10.1 MB/s eta 0:00:01\r\u001b[K     |█████████████████████████       | 808 kB 10.1 MB/s eta 0:00:01\r\u001b[K     |█████████████████████████▍      | 819 kB 10.1 MB/s eta 0:00:01\r\u001b[K     |█████████████████████████▊      | 829 kB 10.1 MB/s eta 0:00:01\r\u001b[K     |██████████████████████████      | 839 kB 10.1 MB/s eta 0:00:01\r\u001b[K     |██████████████████████████▍     | 849 kB 10.1 MB/s eta 0:00:01\r\u001b[K     |██████████████████████████▊     | 860 kB 10.1 MB/s eta 0:00:01\r\u001b[K     |███████████████████████████     | 870 kB 10.1 MB/s eta 0:00:01\r\u001b[K     |███████████████████████████▎    | 880 kB 10.1 MB/s eta 0:00:01\r\u001b[K     |███████████████████████████▋    | 890 kB 10.1 MB/s eta 0:00:01\r\u001b[K     |████████████████████████████    | 901 kB 10.1 MB/s eta 0:00:01\r\u001b[K     |████████████████████████████▎   | 911 kB 10.1 MB/s eta 0:00:01\r\u001b[K     |████████████████████████████▋   | 921 kB 10.1 MB/s eta 0:00:01\r\u001b[K     |█████████████████████████████   | 931 kB 10.1 MB/s eta 0:00:01\r\u001b[K     |█████████████████████████████▎  | 942 kB 10.1 MB/s eta 0:00:01\r\u001b[K     |█████████████████████████████▌  | 952 kB 10.1 MB/s eta 0:00:01\r\u001b[K     |█████████████████████████████▉  | 962 kB 10.1 MB/s eta 0:00:01\r\u001b[K     |██████████████████████████████▏ | 972 kB 10.1 MB/s eta 0:00:01\r\u001b[K     |██████████████████████████████▌ | 983 kB 10.1 MB/s eta 0:00:01\r\u001b[K     |██████████████████████████████▉ | 993 kB 10.1 MB/s eta 0:00:01\r\u001b[K     |███████████████████████████████▏| 1.0 MB 10.1 MB/s eta 0:00:01\r\u001b[K     |███████████████████████████████▌| 1.0 MB 10.1 MB/s eta 0:00:01\r\u001b[K     |███████████████████████████████▊| 1.0 MB 10.1 MB/s eta 0:00:01\r\u001b[K     |████████████████████████████████| 1.0 MB 10.1 MB/s \n",
            "\u001b[?25hRequirement already satisfied: pandas>=0.25.0 in /usr/local/lib/python3.7/dist-packages (from geopandas) (1.3.5)\n",
            "Collecting pyproj>=2.2.0\n",
            "  Downloading pyproj-3.2.1-cp37-cp37m-manylinux2010_x86_64.whl (6.3 MB)\n",
            "\u001b[K     |████████████████████████████████| 6.3 MB 21.5 MB/s \n",
            "\u001b[?25hCollecting fiona>=1.8\n",
            "  Downloading Fiona-1.8.21-cp37-cp37m-manylinux2014_x86_64.whl (16.7 MB)\n",
            "\u001b[K     |████████████████████████████████| 16.7 MB 138 kB/s \n",
            "\u001b[?25hRequirement already satisfied: shapely>=1.6 in /usr/local/lib/python3.7/dist-packages (from geopandas) (1.8.2)\n",
            "Collecting munch\n",
            "  Downloading munch-2.5.0-py2.py3-none-any.whl (10 kB)\n",
            "Collecting click-plugins>=1.0\n",
            "  Downloading click_plugins-1.1.1-py2.py3-none-any.whl (7.5 kB)\n",
            "Requirement already satisfied: setuptools in /usr/local/lib/python3.7/dist-packages (from fiona>=1.8->geopandas) (57.4.0)\n",
            "Requirement already satisfied: attrs>=17 in /usr/local/lib/python3.7/dist-packages (from fiona>=1.8->geopandas) (21.4.0)\n",
            "Collecting cligj>=0.5\n",
            "  Downloading cligj-0.7.2-py3-none-any.whl (7.1 kB)\n",
            "Requirement already satisfied: six>=1.7 in /usr/local/lib/python3.7/dist-packages (from fiona>=1.8->geopandas) (1.15.0)\n",
            "Requirement already satisfied: certifi in /usr/local/lib/python3.7/dist-packages (from fiona>=1.8->geopandas) (2021.10.8)\n",
            "Requirement already satisfied: click>=4.0 in /usr/local/lib/python3.7/dist-packages (from fiona>=1.8->geopandas) (7.1.2)\n",
            "Requirement already satisfied: python-dateutil>=2.7.3 in /usr/local/lib/python3.7/dist-packages (from pandas>=0.25.0->geopandas) (2.8.2)\n",
            "Requirement already satisfied: pytz>=2017.3 in /usr/local/lib/python3.7/dist-packages (from pandas>=0.25.0->geopandas) (2022.1)\n",
            "Requirement already satisfied: numpy>=1.17.3 in /usr/local/lib/python3.7/dist-packages (from pandas>=0.25.0->geopandas) (1.21.6)\n",
            "Installing collected packages: munch, cligj, click-plugins, pyproj, fiona, geopandas\n",
            "Successfully installed click-plugins-1.1.1 cligj-0.7.2 fiona-1.8.21 geopandas-0.10.2 munch-2.5.0 pyproj-3.2.1\n",
            "Collecting adjustText\n",
            "  Downloading adjustText-0.7.3.tar.gz (7.5 kB)\n",
            "Requirement already satisfied: numpy in /usr/local/lib/python3.7/dist-packages (from adjustText) (1.21.6)\n",
            "Requirement already satisfied: matplotlib in /usr/local/lib/python3.7/dist-packages (from adjustText) (3.2.2)\n",
            "Requirement already satisfied: kiwisolver>=1.0.1 in /usr/local/lib/python3.7/dist-packages (from matplotlib->adjustText) (1.4.2)\n",
            "Requirement already satisfied: python-dateutil>=2.1 in /usr/local/lib/python3.7/dist-packages (from matplotlib->adjustText) (2.8.2)\n",
            "Requirement already satisfied: cycler>=0.10 in /usr/local/lib/python3.7/dist-packages (from matplotlib->adjustText) (0.11.0)\n",
            "Requirement already satisfied: pyparsing!=2.0.4,!=2.1.2,!=2.1.6,>=2.0.1 in /usr/local/lib/python3.7/dist-packages (from matplotlib->adjustText) (3.0.9)\n",
            "Requirement already satisfied: typing-extensions in /usr/local/lib/python3.7/dist-packages (from kiwisolver>=1.0.1->matplotlib->adjustText) (4.2.0)\n",
            "Requirement already satisfied: six>=1.5 in /usr/local/lib/python3.7/dist-packages (from python-dateutil>=2.1->matplotlib->adjustText) (1.15.0)\n",
            "Building wheels for collected packages: adjustText\n",
            "  Building wheel for adjustText (setup.py) ... \u001b[?25l\u001b[?25hdone\n",
            "  Created wheel for adjustText: filename=adjustText-0.7.3-py3-none-any.whl size=7097 sha256=42dddc0770ab6f66d08f894cca7aa8e29eca97f09b290c3e810b7c0288285201\n",
            "  Stored in directory: /root/.cache/pip/wheels/2f/98/32/afbf902d8f040fadfdf0a44357e4ab750afe165d873bf5893d\n",
            "Successfully built adjustText\n",
            "Installing collected packages: adjustText\n",
            "Successfully installed adjustText-0.7.3\n"
          ]
        },
        {
          "output_type": "stream",
          "name": "stderr",
          "text": [
            "/usr/local/lib/python3.7/dist-packages/statsmodels/tools/_testing.py:19: FutureWarning: pandas.util.testing is deprecated. Use the functions in the public API at pandas.testing instead.\n",
            "  import pandas.util.testing as tm\n"
          ]
        }
      ],
      "source": [
        "!pip install geopandas\n",
        "!pip install adjustText\n",
        "import pandas as pd\n",
        "import numpy as np\n",
        "import matplotlib.pyplot as plt\n",
        "import pylab \n",
        "from datetime import datetime\n",
        "import geopandas as gp\n",
        "import matplotlib\n",
        "import matplotlib.pyplot as plt\n",
        "from shapely.geometry.polygon import Polygon\n",
        "from shapely import wkt\n",
        "from adjustText import adjust_text\n",
        "from scipy import stats\n",
        "from statsmodels.stats.multicomp import pairwise_tukeyhsd\n",
        "\n",
        "%matplotlib inline\n",
        "import pandas as pd\n",
        "import numpy as np\n",
        "import matplotlib.pyplot as plt\n",
        "import pylab \n",
        "from datetime import datetime\n",
        "import geopandas as gp\n",
        "import matplotlib\n",
        "import matplotlib.pyplot as plt\n",
        "from shapely.geometry.polygon import Polygon\n",
        "from shapely import wkt\n",
        "from adjustText import adjust_text\n",
        "from scipy import stats\n",
        "from statsmodels.stats.multicomp import pairwise_tukeyhsd\n",
        "\n",
        "%matplotlib inline"
      ]
    },
    {
      "cell_type": "code",
      "source": [
        "! gdown --id 1LlwfCcagXrbz-X3rxaS-dbS75vr11wwG"
      ],
      "metadata": {
        "colab": {
          "base_uri": "https://localhost:8080/"
        },
        "id": "L-ts9AOfmEIV",
        "outputId": "f5d45986-f666-4600-c163-4c8697a7158d"
      },
      "execution_count": 9,
      "outputs": [
        {
          "output_type": "stream",
          "name": "stdout",
          "text": [
            "/usr/local/lib/python3.7/dist-packages/gdown/cli.py:131: FutureWarning: Option `--id` was deprecated in version 4.3.1 and will be removed in 5.0. You don't need to pass it anymore to use a file ID.\n",
            "  category=FutureWarning,\n",
            "Downloading...\n",
            "From: https://drive.google.com/uc?id=1LlwfCcagXrbz-X3rxaS-dbS75vr11wwG\n",
            "To: /content/ookla-canada-speed-tiles-tansferred-subdivision-name-with-dummy.csv\n",
            "100% 920M/920M [00:06<00:00, 146MB/s]\n"
          ]
        }
      ]
    },
    {
      "cell_type": "code",
      "source": [
        "data= pd.read_csv('/content/ookla-canada-speed-tiles-tansferred-subdivision-name-with-dummy.csv')"
      ],
      "metadata": {
        "id": "xmRZlCi4mUfw"
      },
      "execution_count": 10,
      "outputs": []
    },
    {
      "cell_type": "code",
      "source": [
        "data.head()"
      ],
      "metadata": {
        "colab": {
          "base_uri": "https://localhost:8080/",
          "height": 508
        },
        "id": "2QK4C6tomf7O",
        "outputId": "40309e0e-e9b8-468a-81ae-dc1ae8d3c17a"
      },
      "execution_count": 11,
      "outputs": [
        {
          "output_type": "execute_result",
          "data": {
            "text/plain": [
              "   Unnamed: 0         quadkey  avg_d_kbps  avg_u_kbps  avg_lat_ms  tests  \\\n",
              "0           0  23331133131332       11910        1408          27      1   \n",
              "1           1  23331133133011       14969        1554          25      1   \n",
              "2           2  32202103303220        5038        1317          54      1   \n",
              "3           3  32220031120102       13419        6169          50      4   \n",
              "4           4  32220031120103       13587        1095          28      2   \n",
              "\n",
              "   devices  year quarter conn_type  ...  DA_POP  PCUID  PCNAME PCTYPE  \\\n",
              "0        1  2019      Q1     fixed  ...   590.0    NaN     NaN    NaN   \n",
              "1        1  2019      Q1     fixed  ...   590.0    NaN     NaN    NaN   \n",
              "2        1  2019      Q1     fixed  ...   330.0    NaN     NaN    NaN   \n",
              "3        1  2019      Q1     fixed  ...   275.0    NaN     NaN    NaN   \n",
              "4        1  2019      Q1     fixed  ...   275.0  388.0  Inuvik    4.0   \n",
              "\n",
              "   PCCLASS                                           geometry  time  \\\n",
              "0      NaN  POLYGON ((4593360.869162522 4089469.903958718,...     1   \n",
              "1      NaN  POLYGON ((4592705.709263269 4089714.237789153,...     1   \n",
              "2      NaN  POLYGON ((4736491.486114961 4146142.702105635,...     1   \n",
              "3      NaN  POLYGON ((4642710.684221942 4070147.11608694, ...     1   \n",
              "4      2.0  POLYGON ((4642884.53847014 4070012.63271272, 4...     1   \n",
              "\n",
              "   census_subdivision District  Underserved  \n",
              "0                 HAM        1        False  \n",
              "1                 HAM        1        False  \n",
              "2                 HAM        1         True  \n",
              "3                 HAM        1         True  \n",
              "4                 HAM        0        False  \n",
              "\n",
              "[5 rows x 26 columns]"
            ],
            "text/html": [
              "\n",
              "  <div id=\"df-3b9e997c-473c-42ac-acec-0ae08f3dadea\">\n",
              "    <div class=\"colab-df-container\">\n",
              "      <div>\n",
              "<style scoped>\n",
              "    .dataframe tbody tr th:only-of-type {\n",
              "        vertical-align: middle;\n",
              "    }\n",
              "\n",
              "    .dataframe tbody tr th {\n",
              "        vertical-align: top;\n",
              "    }\n",
              "\n",
              "    .dataframe thead th {\n",
              "        text-align: right;\n",
              "    }\n",
              "</style>\n",
              "<table border=\"1\" class=\"dataframe\">\n",
              "  <thead>\n",
              "    <tr style=\"text-align: right;\">\n",
              "      <th></th>\n",
              "      <th>Unnamed: 0</th>\n",
              "      <th>quadkey</th>\n",
              "      <th>avg_d_kbps</th>\n",
              "      <th>avg_u_kbps</th>\n",
              "      <th>avg_lat_ms</th>\n",
              "      <th>tests</th>\n",
              "      <th>devices</th>\n",
              "      <th>year</th>\n",
              "      <th>quarter</th>\n",
              "      <th>conn_type</th>\n",
              "      <th>...</th>\n",
              "      <th>DA_POP</th>\n",
              "      <th>PCUID</th>\n",
              "      <th>PCNAME</th>\n",
              "      <th>PCTYPE</th>\n",
              "      <th>PCCLASS</th>\n",
              "      <th>geometry</th>\n",
              "      <th>time</th>\n",
              "      <th>census_subdivision</th>\n",
              "      <th>District</th>\n",
              "      <th>Underserved</th>\n",
              "    </tr>\n",
              "  </thead>\n",
              "  <tbody>\n",
              "    <tr>\n",
              "      <th>0</th>\n",
              "      <td>0</td>\n",
              "      <td>23331133131332</td>\n",
              "      <td>11910</td>\n",
              "      <td>1408</td>\n",
              "      <td>27</td>\n",
              "      <td>1</td>\n",
              "      <td>1</td>\n",
              "      <td>2019</td>\n",
              "      <td>Q1</td>\n",
              "      <td>fixed</td>\n",
              "      <td>...</td>\n",
              "      <td>590.0</td>\n",
              "      <td>NaN</td>\n",
              "      <td>NaN</td>\n",
              "      <td>NaN</td>\n",
              "      <td>NaN</td>\n",
              "      <td>POLYGON ((4593360.869162522 4089469.903958718,...</td>\n",
              "      <td>1</td>\n",
              "      <td>HAM</td>\n",
              "      <td>1</td>\n",
              "      <td>False</td>\n",
              "    </tr>\n",
              "    <tr>\n",
              "      <th>1</th>\n",
              "      <td>1</td>\n",
              "      <td>23331133133011</td>\n",
              "      <td>14969</td>\n",
              "      <td>1554</td>\n",
              "      <td>25</td>\n",
              "      <td>1</td>\n",
              "      <td>1</td>\n",
              "      <td>2019</td>\n",
              "      <td>Q1</td>\n",
              "      <td>fixed</td>\n",
              "      <td>...</td>\n",
              "      <td>590.0</td>\n",
              "      <td>NaN</td>\n",
              "      <td>NaN</td>\n",
              "      <td>NaN</td>\n",
              "      <td>NaN</td>\n",
              "      <td>POLYGON ((4592705.709263269 4089714.237789153,...</td>\n",
              "      <td>1</td>\n",
              "      <td>HAM</td>\n",
              "      <td>1</td>\n",
              "      <td>False</td>\n",
              "    </tr>\n",
              "    <tr>\n",
              "      <th>2</th>\n",
              "      <td>2</td>\n",
              "      <td>32202103303220</td>\n",
              "      <td>5038</td>\n",
              "      <td>1317</td>\n",
              "      <td>54</td>\n",
              "      <td>1</td>\n",
              "      <td>1</td>\n",
              "      <td>2019</td>\n",
              "      <td>Q1</td>\n",
              "      <td>fixed</td>\n",
              "      <td>...</td>\n",
              "      <td>330.0</td>\n",
              "      <td>NaN</td>\n",
              "      <td>NaN</td>\n",
              "      <td>NaN</td>\n",
              "      <td>NaN</td>\n",
              "      <td>POLYGON ((4736491.486114961 4146142.702105635,...</td>\n",
              "      <td>1</td>\n",
              "      <td>HAM</td>\n",
              "      <td>1</td>\n",
              "      <td>True</td>\n",
              "    </tr>\n",
              "    <tr>\n",
              "      <th>3</th>\n",
              "      <td>3</td>\n",
              "      <td>32220031120102</td>\n",
              "      <td>13419</td>\n",
              "      <td>6169</td>\n",
              "      <td>50</td>\n",
              "      <td>4</td>\n",
              "      <td>1</td>\n",
              "      <td>2019</td>\n",
              "      <td>Q1</td>\n",
              "      <td>fixed</td>\n",
              "      <td>...</td>\n",
              "      <td>275.0</td>\n",
              "      <td>NaN</td>\n",
              "      <td>NaN</td>\n",
              "      <td>NaN</td>\n",
              "      <td>NaN</td>\n",
              "      <td>POLYGON ((4642710.684221942 4070147.11608694, ...</td>\n",
              "      <td>1</td>\n",
              "      <td>HAM</td>\n",
              "      <td>1</td>\n",
              "      <td>True</td>\n",
              "    </tr>\n",
              "    <tr>\n",
              "      <th>4</th>\n",
              "      <td>4</td>\n",
              "      <td>32220031120103</td>\n",
              "      <td>13587</td>\n",
              "      <td>1095</td>\n",
              "      <td>28</td>\n",
              "      <td>2</td>\n",
              "      <td>1</td>\n",
              "      <td>2019</td>\n",
              "      <td>Q1</td>\n",
              "      <td>fixed</td>\n",
              "      <td>...</td>\n",
              "      <td>275.0</td>\n",
              "      <td>388.0</td>\n",
              "      <td>Inuvik</td>\n",
              "      <td>4.0</td>\n",
              "      <td>2.0</td>\n",
              "      <td>POLYGON ((4642884.53847014 4070012.63271272, 4...</td>\n",
              "      <td>1</td>\n",
              "      <td>HAM</td>\n",
              "      <td>0</td>\n",
              "      <td>False</td>\n",
              "    </tr>\n",
              "  </tbody>\n",
              "</table>\n",
              "<p>5 rows × 26 columns</p>\n",
              "</div>\n",
              "      <button class=\"colab-df-convert\" onclick=\"convertToInteractive('df-3b9e997c-473c-42ac-acec-0ae08f3dadea')\"\n",
              "              title=\"Convert this dataframe to an interactive table.\"\n",
              "              style=\"display:none;\">\n",
              "        \n",
              "  <svg xmlns=\"http://www.w3.org/2000/svg\" height=\"24px\"viewBox=\"0 0 24 24\"\n",
              "       width=\"24px\">\n",
              "    <path d=\"M0 0h24v24H0V0z\" fill=\"none\"/>\n",
              "    <path d=\"M18.56 5.44l.94 2.06.94-2.06 2.06-.94-2.06-.94-.94-2.06-.94 2.06-2.06.94zm-11 1L8.5 8.5l.94-2.06 2.06-.94-2.06-.94L8.5 2.5l-.94 2.06-2.06.94zm10 10l.94 2.06.94-2.06 2.06-.94-2.06-.94-.94-2.06-.94 2.06-2.06.94z\"/><path d=\"M17.41 7.96l-1.37-1.37c-.4-.4-.92-.59-1.43-.59-.52 0-1.04.2-1.43.59L10.3 9.45l-7.72 7.72c-.78.78-.78 2.05 0 2.83L4 21.41c.39.39.9.59 1.41.59.51 0 1.02-.2 1.41-.59l7.78-7.78 2.81-2.81c.8-.78.8-2.07 0-2.86zM5.41 20L4 18.59l7.72-7.72 1.47 1.35L5.41 20z\"/>\n",
              "  </svg>\n",
              "      </button>\n",
              "      \n",
              "  <style>\n",
              "    .colab-df-container {\n",
              "      display:flex;\n",
              "      flex-wrap:wrap;\n",
              "      gap: 12px;\n",
              "    }\n",
              "\n",
              "    .colab-df-convert {\n",
              "      background-color: #E8F0FE;\n",
              "      border: none;\n",
              "      border-radius: 50%;\n",
              "      cursor: pointer;\n",
              "      display: none;\n",
              "      fill: #1967D2;\n",
              "      height: 32px;\n",
              "      padding: 0 0 0 0;\n",
              "      width: 32px;\n",
              "    }\n",
              "\n",
              "    .colab-df-convert:hover {\n",
              "      background-color: #E2EBFA;\n",
              "      box-shadow: 0px 1px 2px rgba(60, 64, 67, 0.3), 0px 1px 3px 1px rgba(60, 64, 67, 0.15);\n",
              "      fill: #174EA6;\n",
              "    }\n",
              "\n",
              "    [theme=dark] .colab-df-convert {\n",
              "      background-color: #3B4455;\n",
              "      fill: #D2E3FC;\n",
              "    }\n",
              "\n",
              "    [theme=dark] .colab-df-convert:hover {\n",
              "      background-color: #434B5C;\n",
              "      box-shadow: 0px 1px 3px 1px rgba(0, 0, 0, 0.15);\n",
              "      filter: drop-shadow(0px 1px 2px rgba(0, 0, 0, 0.3));\n",
              "      fill: #FFFFFF;\n",
              "    }\n",
              "  </style>\n",
              "\n",
              "      <script>\n",
              "        const buttonEl =\n",
              "          document.querySelector('#df-3b9e997c-473c-42ac-acec-0ae08f3dadea button.colab-df-convert');\n",
              "        buttonEl.style.display =\n",
              "          google.colab.kernel.accessAllowed ? 'block' : 'none';\n",
              "\n",
              "        async function convertToInteractive(key) {\n",
              "          const element = document.querySelector('#df-3b9e997c-473c-42ac-acec-0ae08f3dadea');\n",
              "          const dataTable =\n",
              "            await google.colab.kernel.invokeFunction('convertToInteractive',\n",
              "                                                     [key], {});\n",
              "          if (!dataTable) return;\n",
              "\n",
              "          const docLinkHtml = 'Like what you see? Visit the ' +\n",
              "            '<a target=\"_blank\" href=https://colab.research.google.com/notebooks/data_table.ipynb>data table notebook</a>'\n",
              "            + ' to learn more about interactive tables.';\n",
              "          element.innerHTML = '';\n",
              "          dataTable['output_type'] = 'display_data';\n",
              "          await google.colab.output.renderOutput(dataTable, element);\n",
              "          const docLink = document.createElement('div');\n",
              "          docLink.innerHTML = docLinkHtml;\n",
              "          element.appendChild(docLink);\n",
              "        }\n",
              "      </script>\n",
              "    </div>\n",
              "  </div>\n",
              "  "
            ]
          },
          "metadata": {},
          "execution_count": 11
        }
      ]
    },
    {
      "cell_type": "code",
      "source": [
        "data.info()"
      ],
      "metadata": {
        "colab": {
          "base_uri": "https://localhost:8080/"
        },
        "id": "OHoFaDnFqShU",
        "outputId": "113d8a8c-e2e2-4c62-e90d-adc6281db4fe"
      },
      "execution_count": 12,
      "outputs": [
        {
          "output_type": "stream",
          "name": "stdout",
          "text": [
            "<class 'pandas.core.frame.DataFrame'>\n",
            "RangeIndex: 2751464 entries, 0 to 2751463\n",
            "Data columns (total 26 columns):\n",
            " #   Column              Dtype  \n",
            "---  ------              -----  \n",
            " 0   Unnamed: 0          int64  \n",
            " 1   quadkey             int64  \n",
            " 2   avg_d_kbps          int64  \n",
            " 3   avg_u_kbps          int64  \n",
            " 4   avg_lat_ms          int64  \n",
            " 5   tests               int64  \n",
            " 6   devices             int64  \n",
            " 7   year                int64  \n",
            " 8   quarter             object \n",
            " 9   conn_type           object \n",
            " 10  PRUID               int64  \n",
            " 11  PRNAME              object \n",
            " 12  CDUID               int64  \n",
            " 13  CDNAME              object \n",
            " 14  DAUID               int64  \n",
            " 15  SACTYPE             int64  \n",
            " 16  DA_POP              float64\n",
            " 17  PCUID               float64\n",
            " 18  PCNAME              object \n",
            " 19  PCTYPE              float64\n",
            " 20  PCCLASS             float64\n",
            " 21  geometry            object \n",
            " 22  time                int64  \n",
            " 23  census_subdivision  object \n",
            " 24  District            int64  \n",
            " 25  Underserved         bool   \n",
            "dtypes: bool(1), float64(4), int64(14), object(7)\n",
            "memory usage: 527.4+ MB\n"
          ]
        }
      ]
    },
    {
      "cell_type": "code",
      "source": [
        "data['conn_type']=data['conn_type'].astype('category')\n",
        "data['PRNAME']=data['PRNAME'].astype('category')\n",
        "#data['CDNAME']=data['CDNAME'].astype('category')\n",
        "#data['PCNAME']=data['PCNAME'].astype('category')\n",
        "data['SACTYPE']=data['SACTYPE'].astype('category')\n",
        "data['census_subdivision']=data['census_subdivision'].astype('category')\n",
        "data['District']=data['District'].astype('category')\n",
        "data['Underserved']=data['Underserved'].astype('category')"
      ],
      "metadata": {
        "id": "XM5c2YIDm1yy"
      },
      "execution_count": 13,
      "outputs": []
    },
    {
      "cell_type": "code",
      "source": [
        "data['time']=data['time'].astype('float')\n",
        "data['tests']=data['tests'].astype('float')\n",
        "data['devices']=data['devices'].astype('float')\n",
        "data['DA_POP']=data['DA_POP'].astype('float')"
      ],
      "metadata": {
        "id": "1OjfAi3orhBJ"
      },
      "execution_count": 14,
      "outputs": []
    },
    {
      "cell_type": "code",
      "source": [
        "cat_col=['conn_type','PRNAME','SACTYPE','census_subdivision','District','Underserved']\n",
        "num_col=['time','tests','devices','DA_POP']"
      ],
      "metadata": {
        "id": "kIeTVqM7sAtm"
      },
      "execution_count": 15,
      "outputs": []
    },
    {
      "cell_type": "code",
      "source": [
        "X=data[cat_col+num_col]"
      ],
      "metadata": {
        "id": "vlr9tb8nsl_F"
      },
      "execution_count": 16,
      "outputs": []
    },
    {
      "cell_type": "code",
      "source": [
        "X.info()"
      ],
      "metadata": {
        "colab": {
          "base_uri": "https://localhost:8080/"
        },
        "id": "OTL58fotspgx",
        "outputId": "3f3cb486-e46b-4f8d-ce29-116660ad2b45"
      },
      "execution_count": 17,
      "outputs": [
        {
          "output_type": "stream",
          "name": "stdout",
          "text": [
            "<class 'pandas.core.frame.DataFrame'>\n",
            "RangeIndex: 2751464 entries, 0 to 2751463\n",
            "Data columns (total 10 columns):\n",
            " #   Column              Dtype   \n",
            "---  ------              -----   \n",
            " 0   conn_type           category\n",
            " 1   PRNAME              category\n",
            " 2   SACTYPE             category\n",
            " 3   census_subdivision  category\n",
            " 4   District            category\n",
            " 5   Underserved         category\n",
            " 6   time                float64 \n",
            " 7   tests               float64 \n",
            " 8   devices             float64 \n",
            " 9   DA_POP              float64 \n",
            "dtypes: category(6), float64(4)\n",
            "memory usage: 99.7 MB\n"
          ]
        }
      ]
    },
    {
      "cell_type": "code",
      "source": [
        "X.head()"
      ],
      "metadata": {
        "colab": {
          "base_uri": "https://localhost:8080/",
          "height": 337
        },
        "id": "9cSmeX0MssWK",
        "outputId": "86c2afc0-b6ff-40f1-99c5-42e9c5b5216d"
      },
      "execution_count": 18,
      "outputs": [
        {
          "output_type": "execute_result",
          "data": {
            "text/plain": [
              "  conn_type                                             PRNAME SACTYPE  \\\n",
              "0     fixed  Northwest Territories / Territoires du Nord-Ouest       8   \n",
              "1     fixed  Northwest Territories / Territoires du Nord-Ouest       8   \n",
              "2     fixed  Northwest Territories / Territoires du Nord-Ouest       8   \n",
              "3     fixed  Northwest Territories / Territoires du Nord-Ouest       8   \n",
              "4     fixed  Northwest Territories / Territoires du Nord-Ouest       8   \n",
              "\n",
              "  census_subdivision District Underserved  time  tests  devices  DA_POP  \n",
              "0                HAM        1       False   1.0    1.0      1.0   590.0  \n",
              "1                HAM        1       False   1.0    1.0      1.0   590.0  \n",
              "2                HAM        1        True   1.0    1.0      1.0   330.0  \n",
              "3                HAM        1        True   1.0    4.0      1.0   275.0  \n",
              "4                HAM        0       False   1.0    2.0      1.0   275.0  "
            ],
            "text/html": [
              "\n",
              "  <div id=\"df-f5349d1f-3f59-4de5-bed2-603ea261c3a9\">\n",
              "    <div class=\"colab-df-container\">\n",
              "      <div>\n",
              "<style scoped>\n",
              "    .dataframe tbody tr th:only-of-type {\n",
              "        vertical-align: middle;\n",
              "    }\n",
              "\n",
              "    .dataframe tbody tr th {\n",
              "        vertical-align: top;\n",
              "    }\n",
              "\n",
              "    .dataframe thead th {\n",
              "        text-align: right;\n",
              "    }\n",
              "</style>\n",
              "<table border=\"1\" class=\"dataframe\">\n",
              "  <thead>\n",
              "    <tr style=\"text-align: right;\">\n",
              "      <th></th>\n",
              "      <th>conn_type</th>\n",
              "      <th>PRNAME</th>\n",
              "      <th>SACTYPE</th>\n",
              "      <th>census_subdivision</th>\n",
              "      <th>District</th>\n",
              "      <th>Underserved</th>\n",
              "      <th>time</th>\n",
              "      <th>tests</th>\n",
              "      <th>devices</th>\n",
              "      <th>DA_POP</th>\n",
              "    </tr>\n",
              "  </thead>\n",
              "  <tbody>\n",
              "    <tr>\n",
              "      <th>0</th>\n",
              "      <td>fixed</td>\n",
              "      <td>Northwest Territories / Territoires du Nord-Ouest</td>\n",
              "      <td>8</td>\n",
              "      <td>HAM</td>\n",
              "      <td>1</td>\n",
              "      <td>False</td>\n",
              "      <td>1.0</td>\n",
              "      <td>1.0</td>\n",
              "      <td>1.0</td>\n",
              "      <td>590.0</td>\n",
              "    </tr>\n",
              "    <tr>\n",
              "      <th>1</th>\n",
              "      <td>fixed</td>\n",
              "      <td>Northwest Territories / Territoires du Nord-Ouest</td>\n",
              "      <td>8</td>\n",
              "      <td>HAM</td>\n",
              "      <td>1</td>\n",
              "      <td>False</td>\n",
              "      <td>1.0</td>\n",
              "      <td>1.0</td>\n",
              "      <td>1.0</td>\n",
              "      <td>590.0</td>\n",
              "    </tr>\n",
              "    <tr>\n",
              "      <th>2</th>\n",
              "      <td>fixed</td>\n",
              "      <td>Northwest Territories / Territoires du Nord-Ouest</td>\n",
              "      <td>8</td>\n",
              "      <td>HAM</td>\n",
              "      <td>1</td>\n",
              "      <td>True</td>\n",
              "      <td>1.0</td>\n",
              "      <td>1.0</td>\n",
              "      <td>1.0</td>\n",
              "      <td>330.0</td>\n",
              "    </tr>\n",
              "    <tr>\n",
              "      <th>3</th>\n",
              "      <td>fixed</td>\n",
              "      <td>Northwest Territories / Territoires du Nord-Ouest</td>\n",
              "      <td>8</td>\n",
              "      <td>HAM</td>\n",
              "      <td>1</td>\n",
              "      <td>True</td>\n",
              "      <td>1.0</td>\n",
              "      <td>4.0</td>\n",
              "      <td>1.0</td>\n",
              "      <td>275.0</td>\n",
              "    </tr>\n",
              "    <tr>\n",
              "      <th>4</th>\n",
              "      <td>fixed</td>\n",
              "      <td>Northwest Territories / Territoires du Nord-Ouest</td>\n",
              "      <td>8</td>\n",
              "      <td>HAM</td>\n",
              "      <td>0</td>\n",
              "      <td>False</td>\n",
              "      <td>1.0</td>\n",
              "      <td>2.0</td>\n",
              "      <td>1.0</td>\n",
              "      <td>275.0</td>\n",
              "    </tr>\n",
              "  </tbody>\n",
              "</table>\n",
              "</div>\n",
              "      <button class=\"colab-df-convert\" onclick=\"convertToInteractive('df-f5349d1f-3f59-4de5-bed2-603ea261c3a9')\"\n",
              "              title=\"Convert this dataframe to an interactive table.\"\n",
              "              style=\"display:none;\">\n",
              "        \n",
              "  <svg xmlns=\"http://www.w3.org/2000/svg\" height=\"24px\"viewBox=\"0 0 24 24\"\n",
              "       width=\"24px\">\n",
              "    <path d=\"M0 0h24v24H0V0z\" fill=\"none\"/>\n",
              "    <path d=\"M18.56 5.44l.94 2.06.94-2.06 2.06-.94-2.06-.94-.94-2.06-.94 2.06-2.06.94zm-11 1L8.5 8.5l.94-2.06 2.06-.94-2.06-.94L8.5 2.5l-.94 2.06-2.06.94zm10 10l.94 2.06.94-2.06 2.06-.94-2.06-.94-.94-2.06-.94 2.06-2.06.94z\"/><path d=\"M17.41 7.96l-1.37-1.37c-.4-.4-.92-.59-1.43-.59-.52 0-1.04.2-1.43.59L10.3 9.45l-7.72 7.72c-.78.78-.78 2.05 0 2.83L4 21.41c.39.39.9.59 1.41.59.51 0 1.02-.2 1.41-.59l7.78-7.78 2.81-2.81c.8-.78.8-2.07 0-2.86zM5.41 20L4 18.59l7.72-7.72 1.47 1.35L5.41 20z\"/>\n",
              "  </svg>\n",
              "      </button>\n",
              "      \n",
              "  <style>\n",
              "    .colab-df-container {\n",
              "      display:flex;\n",
              "      flex-wrap:wrap;\n",
              "      gap: 12px;\n",
              "    }\n",
              "\n",
              "    .colab-df-convert {\n",
              "      background-color: #E8F0FE;\n",
              "      border: none;\n",
              "      border-radius: 50%;\n",
              "      cursor: pointer;\n",
              "      display: none;\n",
              "      fill: #1967D2;\n",
              "      height: 32px;\n",
              "      padding: 0 0 0 0;\n",
              "      width: 32px;\n",
              "    }\n",
              "\n",
              "    .colab-df-convert:hover {\n",
              "      background-color: #E2EBFA;\n",
              "      box-shadow: 0px 1px 2px rgba(60, 64, 67, 0.3), 0px 1px 3px 1px rgba(60, 64, 67, 0.15);\n",
              "      fill: #174EA6;\n",
              "    }\n",
              "\n",
              "    [theme=dark] .colab-df-convert {\n",
              "      background-color: #3B4455;\n",
              "      fill: #D2E3FC;\n",
              "    }\n",
              "\n",
              "    [theme=dark] .colab-df-convert:hover {\n",
              "      background-color: #434B5C;\n",
              "      box-shadow: 0px 1px 3px 1px rgba(0, 0, 0, 0.15);\n",
              "      filter: drop-shadow(0px 1px 2px rgba(0, 0, 0, 0.3));\n",
              "      fill: #FFFFFF;\n",
              "    }\n",
              "  </style>\n",
              "\n",
              "      <script>\n",
              "        const buttonEl =\n",
              "          document.querySelector('#df-f5349d1f-3f59-4de5-bed2-603ea261c3a9 button.colab-df-convert');\n",
              "        buttonEl.style.display =\n",
              "          google.colab.kernel.accessAllowed ? 'block' : 'none';\n",
              "\n",
              "        async function convertToInteractive(key) {\n",
              "          const element = document.querySelector('#df-f5349d1f-3f59-4de5-bed2-603ea261c3a9');\n",
              "          const dataTable =\n",
              "            await google.colab.kernel.invokeFunction('convertToInteractive',\n",
              "                                                     [key], {});\n",
              "          if (!dataTable) return;\n",
              "\n",
              "          const docLinkHtml = 'Like what you see? Visit the ' +\n",
              "            '<a target=\"_blank\" href=https://colab.research.google.com/notebooks/data_table.ipynb>data table notebook</a>'\n",
              "            + ' to learn more about interactive tables.';\n",
              "          element.innerHTML = '';\n",
              "          dataTable['output_type'] = 'display_data';\n",
              "          await google.colab.output.renderOutput(dataTable, element);\n",
              "          const docLink = document.createElement('div');\n",
              "          docLink.innerHTML = docLinkHtml;\n",
              "          element.appendChild(docLink);\n",
              "        }\n",
              "      </script>\n",
              "    </div>\n",
              "  </div>\n",
              "  "
            ]
          },
          "metadata": {},
          "execution_count": 18
        }
      ]
    },
    {
      "cell_type": "code",
      "source": [
        "y1=data['avg_d_kbps']\n",
        "y2=data['avg_u_kbps']\n",
        "y3=data['avg_lat_ms']"
      ],
      "metadata": {
        "id": "YBxicGLysxGs"
      },
      "execution_count": 19,
      "outputs": []
    },
    {
      "cell_type": "code",
      "source": [
        "n_categorical_features = X.select_dtypes(include=\"category\").shape[1]\n",
        "n_numerical_features = X.select_dtypes(include=\"number\").shape[1]\n"
      ],
      "metadata": {
        "id": "yX4BzPyvs9Ms"
      },
      "execution_count": 20,
      "outputs": []
    },
    {
      "cell_type": "code",
      "source": [
        "n_categorical_features"
      ],
      "metadata": {
        "colab": {
          "base_uri": "https://localhost:8080/"
        },
        "id": "uX5Wi1Cms_gl",
        "outputId": "0485ca33-7cd9-481c-f3d7-7fb5caeaeaca"
      },
      "execution_count": 21,
      "outputs": [
        {
          "output_type": "execute_result",
          "data": {
            "text/plain": [
              "6"
            ]
          },
          "metadata": {},
          "execution_count": 21
        }
      ]
    },
    {
      "cell_type": "code",
      "source": [
        "n_numerical_features"
      ],
      "metadata": {
        "colab": {
          "base_uri": "https://localhost:8080/"
        },
        "id": "wDZwEUr9tDVe",
        "outputId": "02a7bcde-46e7-4873-f2a4-68b67aff076d"
      },
      "execution_count": 22,
      "outputs": [
        {
          "output_type": "execute_result",
          "data": {
            "text/plain": [
              "4"
            ]
          },
          "metadata": {},
          "execution_count": 22
        }
      ]
    },
    {
      "cell_type": "code",
      "source": [
        "test_ind=[i for i,v in enumerate(X['time']) if v > 8]\n"
      ],
      "metadata": {
        "id": "ISd8L4-ruo87"
      },
      "execution_count": 33,
      "outputs": []
    },
    {
      "cell_type": "code",
      "source": [
        "X_test=X.loc[test_ind,]\n",
        "train_ind=np.arange(0,test_ind[0])\n",
        "train_ind2=train_ind.tolist()\n",
        "X_train=X.loc[train_ind,]"
      ],
      "metadata": {
        "id": "y9j95BaVu7Pj"
      },
      "execution_count": 48,
      "outputs": []
    },
    {
      "cell_type": "code",
      "source": [
        "y1_train=y1[train_ind2]\n",
        "y2_train=y2[train_ind2]\n",
        "y3_train=y3[train_ind2]\n",
        "y1_test=y1[test_ind]\n",
        "y2_test=y2[test_ind]\n",
        "y3_test=y3[test_ind]"
      ],
      "metadata": {
        "id": "OqZ1FopAu8Fy"
      },
      "execution_count": 50,
      "outputs": []
    },
    {
      "cell_type": "code",
      "source": [
        "from sklearn.ensemble import HistGradientBoostingRegressor\n",
        "from sklearn.pipeline import make_pipeline\n",
        "from sklearn.compose import make_column_transformer\n",
        "from sklearn.compose import make_column_selector\n",
        "\n",
        "from sklearn.preprocessing import OrdinalEncoder\n",
        "from sklearn.preprocessing import LabelEncoder\n",
        "import numpy as np\n"
      ],
      "metadata": {
        "id": "-Ak7ak98tHFW"
      },
      "execution_count": 24,
      "outputs": []
    },
    {
      "cell_type": "code",
      "source": [
        "# The ordinal encoder will first output the categorical features, and then the\n",
        "# continuous (passed-through) features\n",
        "\n",
        "from sklearn.preprocessing import OrdinalEncoder\n",
        "import numpy as np\n",
        "\n",
        "ordinal_encoder = make_column_transformer(\n",
        "    (\n",
        "        OrdinalEncoder(handle_unknown=\"use_encoded_value\", unknown_value=np.nan),\n",
        "        make_column_selector(dtype_include=\"category\"),\n",
        "    ),\n",
        "    remainder=\"passthrough\",\n",
        ")\n",
        "\n"
      ],
      "metadata": {
        "id": "Bc25QgCotTmk"
      },
      "execution_count": 25,
      "outputs": []
    },
    {
      "cell_type": "code",
      "source": [
        "# The ordinal encoder will first output the categorical features, and then the\n",
        "# continuous (passed-through) features\n",
        "\n",
        "categorical_mask = [True] * n_categorical_features + [False] * n_numerical_features\n",
        "hist_native = make_pipeline(\n",
        "    ordinal_encoder,\n",
        "    HistGradientBoostingRegressor(\n",
        "        random_state=42, categorical_features=categorical_mask\n",
        "    ),\n",
        ")"
      ],
      "metadata": {
        "id": "9proCiJCtW4t"
      },
      "execution_count": 26,
      "outputs": []
    },
    {
      "cell_type": "markdown",
      "source": [
        "Predicting Average Download Speed"
      ],
      "metadata": {
        "id": "bmaJD5_vxu5L"
      }
    },
    {
      "cell_type": "code",
      "source": [
        "train1=hist_native.fit(X_train,y1_train)\n"
      ],
      "metadata": {
        "id": "ia6RFUaMtZp3"
      },
      "execution_count": 57,
      "outputs": []
    },
    {
      "cell_type": "markdown",
      "source": [
        "$R^2 \\text{value}$ "
      ],
      "metadata": {
        "id": "6lR6f4GfyVn3"
      }
    },
    {
      "cell_type": "code",
      "source": [
        "from sklearn.metrics import r2_score\n",
        "predictions1 = train1.predict(X_test)\n",
        "print (r2_score(y1_test, predictions1))"
      ],
      "metadata": {
        "colab": {
          "base_uri": "https://localhost:8080/"
        },
        "id": "ONAVkjDJtish",
        "outputId": "3c3a5213-cf8b-4744-b103-e68bc742a41d"
      },
      "execution_count": 59,
      "outputs": [
        {
          "output_type": "stream",
          "name": "stdout",
          "text": [
            "0.226983992825332\n"
          ]
        }
      ]
    },
    {
      "cell_type": "markdown",
      "source": [
        "Root MSE in KB"
      ],
      "metadata": {
        "id": "_g_BHUISybOk"
      }
    },
    {
      "cell_type": "code",
      "source": [
        "from sklearn.metrics import mean_squared_error\n",
        "np.divide(np.sqrt(mean_squared_error(predictions1, y1_test)),1000)"
      ],
      "metadata": {
        "colab": {
          "base_uri": "https://localhost:8080/"
        },
        "id": "D-Fe-mdfxN51",
        "outputId": "7e4881bb-2f76-4eac-c486-0199f005cc43"
      },
      "execution_count": 60,
      "outputs": [
        {
          "output_type": "execute_result",
          "data": {
            "text/plain": [
              "91.3097122574823"
            ]
          },
          "metadata": {},
          "execution_count": 60
        }
      ]
    },
    {
      "cell_type": "markdown",
      "source": [
        "Predicting Average Upload Speed\n",
        "\n",
        "$R^2 \\text{value}$ "
      ],
      "metadata": {
        "id": "7a5oHwEnxz36"
      }
    },
    {
      "cell_type": "code",
      "source": [
        "train2=hist_native.fit(X_train,y2_train)\n",
        "predictions2 = train2.predict(X_test)\n",
        "print (r2_score(y2_test, predictions2))\n"
      ],
      "metadata": {
        "colab": {
          "base_uri": "https://localhost:8080/"
        },
        "id": "DE1PeB-Ox3x_",
        "outputId": "601a4389-b4bb-48ac-b6fe-766147a65b85"
      },
      "execution_count": 61,
      "outputs": [
        {
          "output_type": "stream",
          "name": "stdout",
          "text": [
            "0.18925322687483215\n"
          ]
        }
      ]
    },
    {
      "cell_type": "markdown",
      "source": [
        "Root MSE in KB"
      ],
      "metadata": {
        "id": "Lv9qDxS7yvzH"
      }
    },
    {
      "cell_type": "code",
      "source": [
        "np.divide(np.sqrt(mean_squared_error(predictions2, y2_test)),1000)"
      ],
      "metadata": {
        "colab": {
          "base_uri": "https://localhost:8080/"
        },
        "id": "J4bksdM_ysht",
        "outputId": "010d3ad4-498d-4056-b174-475195a3bfa4"
      },
      "execution_count": 62,
      "outputs": [
        {
          "output_type": "execute_result",
          "data": {
            "text/plain": [
              "50.48188537547831"
            ]
          },
          "metadata": {},
          "execution_count": 62
        }
      ]
    },
    {
      "cell_type": "markdown",
      "source": [
        "Predicting Average Latency\n",
        "\n",
        "$R^2 \\text{value}$ "
      ],
      "metadata": {
        "id": "fhJ2Iwi3yzj3"
      }
    },
    {
      "cell_type": "code",
      "source": [
        "train3=hist_native.fit(X_train,y3_train)\n",
        "predictions3 = train3.predict(X_test)\n",
        "print (r2_score(y3_test, predictions3))\n"
      ],
      "metadata": {
        "colab": {
          "base_uri": "https://localhost:8080/"
        },
        "id": "dURpTDdyzCvl",
        "outputId": "fd5ac3c3-2fa2-4dfc-aa18-24236a5861cd"
      },
      "execution_count": 63,
      "outputs": [
        {
          "output_type": "stream",
          "name": "stdout",
          "text": [
            "0.17812443572882342\n"
          ]
        }
      ]
    },
    {
      "cell_type": "markdown",
      "source": [
        "Root MSE in KB"
      ],
      "metadata": {
        "id": "vsVOcNVCzLmT"
      }
    },
    {
      "cell_type": "code",
      "source": [
        "np.divide(np.sqrt(mean_squared_error(predictions3, y3_test)),1000)"
      ],
      "metadata": {
        "colab": {
          "base_uri": "https://localhost:8080/"
        },
        "id": "uVmmjjtpzQXw",
        "outputId": "38fe353d-8663-4cb8-e6d1-b720f580d440"
      },
      "execution_count": 64,
      "outputs": [
        {
          "output_type": "execute_result",
          "data": {
            "text/plain": [
              "0.0870794056178683"
            ]
          },
          "metadata": {},
          "execution_count": 64
        }
      ]
    },
    {
      "cell_type": "markdown",
      "source": [
        "Non-Parametric Tests\n",
        "\n",
        "Mann Whitney U Test (Wilcoxon Rank Sum Test)\n",
        "\n",
        "$H_0:$ Urban and Rural download speed come from same distribution\n",
        "\n",
        "$H_a:$ Urban and Rural download speed come from different distributions."
      ],
      "metadata": {
        "id": "lzT1RL_k0_fR"
      }
    },
    {
      "cell_type": "code",
      "source": [
        "rural_ind=[i for i,v in enumerate(X['District']) if i >0]"
      ],
      "metadata": {
        "id": "K9c_8KBX1NaA"
      },
      "execution_count": 68,
      "outputs": []
    },
    {
      "cell_type": "code",
      "source": [
        "rural_dat=data[data.District =='1']"
      ],
      "metadata": {
        "id": "CyUlGsoP2uev"
      },
      "execution_count": 82,
      "outputs": []
    },
    {
      "cell_type": "code",
      "source": [
        "len(rural_dat.index)"
      ],
      "metadata": {
        "colab": {
          "base_uri": "https://localhost:8080/"
        },
        "id": "hcWvDwft3NZ1",
        "outputId": "d368c528-d3a0-4628-a126-0290254b885b"
      },
      "execution_count": 87,
      "outputs": [
        {
          "output_type": "execute_result",
          "data": {
            "text/plain": [
              "1498904"
            ]
          },
          "metadata": {},
          "execution_count": 87
        }
      ]
    },
    {
      "cell_type": "code",
      "source": [
        "data2= pd.read_csv('/content/ookla-canada-speed-tiles-tansferred-subdivision-name-with-dummy.csv')"
      ],
      "metadata": {
        "id": "iDuqvxm63gAr"
      },
      "execution_count": 97,
      "outputs": []
    },
    {
      "cell_type": "code",
      "source": [
        "test=data2.groupby(['quadkey','District'])['avg_d_kbps'].mean().reset_index()"
      ],
      "metadata": {
        "id": "_Ph10rKOBJIT"
      },
      "execution_count": 123,
      "outputs": []
    },
    {
      "cell_type": "code",
      "source": [
        "test.head()"
      ],
      "metadata": {
        "colab": {
          "base_uri": "https://localhost:8080/",
          "height": 206
        },
        "id": "tiPJOyGuBaMH",
        "outputId": "398b6b50-4fc1-42e7-99c3-c69c8256f322"
      },
      "execution_count": 124,
      "outputs": [
        {
          "output_type": "execute_result",
          "data": {
            "text/plain": [
              "          quadkey  District    avg_d_kbps\n",
              "0  23331133131232         1   1859.000000\n",
              "1  23331133131233         1  16844.250000\n",
              "2  23331133131301         1    903.500000\n",
              "3  23331133131303         1  25067.000000\n",
              "4  23331133131323         1  15006.333333"
            ],
            "text/html": [
              "\n",
              "  <div id=\"df-b3610a5a-c581-487f-b943-b318064b7eba\">\n",
              "    <div class=\"colab-df-container\">\n",
              "      <div>\n",
              "<style scoped>\n",
              "    .dataframe tbody tr th:only-of-type {\n",
              "        vertical-align: middle;\n",
              "    }\n",
              "\n",
              "    .dataframe tbody tr th {\n",
              "        vertical-align: top;\n",
              "    }\n",
              "\n",
              "    .dataframe thead th {\n",
              "        text-align: right;\n",
              "    }\n",
              "</style>\n",
              "<table border=\"1\" class=\"dataframe\">\n",
              "  <thead>\n",
              "    <tr style=\"text-align: right;\">\n",
              "      <th></th>\n",
              "      <th>quadkey</th>\n",
              "      <th>District</th>\n",
              "      <th>avg_d_kbps</th>\n",
              "    </tr>\n",
              "  </thead>\n",
              "  <tbody>\n",
              "    <tr>\n",
              "      <th>0</th>\n",
              "      <td>23331133131232</td>\n",
              "      <td>1</td>\n",
              "      <td>1859.000000</td>\n",
              "    </tr>\n",
              "    <tr>\n",
              "      <th>1</th>\n",
              "      <td>23331133131233</td>\n",
              "      <td>1</td>\n",
              "      <td>16844.250000</td>\n",
              "    </tr>\n",
              "    <tr>\n",
              "      <th>2</th>\n",
              "      <td>23331133131301</td>\n",
              "      <td>1</td>\n",
              "      <td>903.500000</td>\n",
              "    </tr>\n",
              "    <tr>\n",
              "      <th>3</th>\n",
              "      <td>23331133131303</td>\n",
              "      <td>1</td>\n",
              "      <td>25067.000000</td>\n",
              "    </tr>\n",
              "    <tr>\n",
              "      <th>4</th>\n",
              "      <td>23331133131323</td>\n",
              "      <td>1</td>\n",
              "      <td>15006.333333</td>\n",
              "    </tr>\n",
              "  </tbody>\n",
              "</table>\n",
              "</div>\n",
              "      <button class=\"colab-df-convert\" onclick=\"convertToInteractive('df-b3610a5a-c581-487f-b943-b318064b7eba')\"\n",
              "              title=\"Convert this dataframe to an interactive table.\"\n",
              "              style=\"display:none;\">\n",
              "        \n",
              "  <svg xmlns=\"http://www.w3.org/2000/svg\" height=\"24px\"viewBox=\"0 0 24 24\"\n",
              "       width=\"24px\">\n",
              "    <path d=\"M0 0h24v24H0V0z\" fill=\"none\"/>\n",
              "    <path d=\"M18.56 5.44l.94 2.06.94-2.06 2.06-.94-2.06-.94-.94-2.06-.94 2.06-2.06.94zm-11 1L8.5 8.5l.94-2.06 2.06-.94-2.06-.94L8.5 2.5l-.94 2.06-2.06.94zm10 10l.94 2.06.94-2.06 2.06-.94-2.06-.94-.94-2.06-.94 2.06-2.06.94z\"/><path d=\"M17.41 7.96l-1.37-1.37c-.4-.4-.92-.59-1.43-.59-.52 0-1.04.2-1.43.59L10.3 9.45l-7.72 7.72c-.78.78-.78 2.05 0 2.83L4 21.41c.39.39.9.59 1.41.59.51 0 1.02-.2 1.41-.59l7.78-7.78 2.81-2.81c.8-.78.8-2.07 0-2.86zM5.41 20L4 18.59l7.72-7.72 1.47 1.35L5.41 20z\"/>\n",
              "  </svg>\n",
              "      </button>\n",
              "      \n",
              "  <style>\n",
              "    .colab-df-container {\n",
              "      display:flex;\n",
              "      flex-wrap:wrap;\n",
              "      gap: 12px;\n",
              "    }\n",
              "\n",
              "    .colab-df-convert {\n",
              "      background-color: #E8F0FE;\n",
              "      border: none;\n",
              "      border-radius: 50%;\n",
              "      cursor: pointer;\n",
              "      display: none;\n",
              "      fill: #1967D2;\n",
              "      height: 32px;\n",
              "      padding: 0 0 0 0;\n",
              "      width: 32px;\n",
              "    }\n",
              "\n",
              "    .colab-df-convert:hover {\n",
              "      background-color: #E2EBFA;\n",
              "      box-shadow: 0px 1px 2px rgba(60, 64, 67, 0.3), 0px 1px 3px 1px rgba(60, 64, 67, 0.15);\n",
              "      fill: #174EA6;\n",
              "    }\n",
              "\n",
              "    [theme=dark] .colab-df-convert {\n",
              "      background-color: #3B4455;\n",
              "      fill: #D2E3FC;\n",
              "    }\n",
              "\n",
              "    [theme=dark] .colab-df-convert:hover {\n",
              "      background-color: #434B5C;\n",
              "      box-shadow: 0px 1px 3px 1px rgba(0, 0, 0, 0.15);\n",
              "      filter: drop-shadow(0px 1px 2px rgba(0, 0, 0, 0.3));\n",
              "      fill: #FFFFFF;\n",
              "    }\n",
              "  </style>\n",
              "\n",
              "      <script>\n",
              "        const buttonEl =\n",
              "          document.querySelector('#df-b3610a5a-c581-487f-b943-b318064b7eba button.colab-df-convert');\n",
              "        buttonEl.style.display =\n",
              "          google.colab.kernel.accessAllowed ? 'block' : 'none';\n",
              "\n",
              "        async function convertToInteractive(key) {\n",
              "          const element = document.querySelector('#df-b3610a5a-c581-487f-b943-b318064b7eba');\n",
              "          const dataTable =\n",
              "            await google.colab.kernel.invokeFunction('convertToInteractive',\n",
              "                                                     [key], {});\n",
              "          if (!dataTable) return;\n",
              "\n",
              "          const docLinkHtml = 'Like what you see? Visit the ' +\n",
              "            '<a target=\"_blank\" href=https://colab.research.google.com/notebooks/data_table.ipynb>data table notebook</a>'\n",
              "            + ' to learn more about interactive tables.';\n",
              "          element.innerHTML = '';\n",
              "          dataTable['output_type'] = 'display_data';\n",
              "          await google.colab.output.renderOutput(dataTable, element);\n",
              "          const docLink = document.createElement('div');\n",
              "          docLink.innerHTML = docLinkHtml;\n",
              "          element.appendChild(docLink);\n",
              "        }\n",
              "      </script>\n",
              "    </div>\n",
              "  </div>\n",
              "  "
            ]
          },
          "metadata": {},
          "execution_count": 124
        }
      ]
    },
    {
      "cell_type": "code",
      "source": [
        "urban=test[test.District ==0]\n",
        "rural=test[test.District ==1]"
      ],
      "metadata": {
        "id": "Egt8prM94Ohg"
      },
      "execution_count": 126,
      "outputs": []
    },
    {
      "cell_type": "code",
      "source": [
        "u_down=urban['avg_d_kbps']\n",
        "r_down=rural['avg_d_kbps']"
      ],
      "metadata": {
        "id": "j1ANrnn84i_-"
      },
      "execution_count": 127,
      "outputs": []
    },
    {
      "cell_type": "code",
      "source": [
        "u_down.plot.kde()"
      ],
      "metadata": {
        "colab": {
          "base_uri": "https://localhost:8080/",
          "height": 307
        },
        "id": "s0IyJs1j5tjn",
        "outputId": "6b55b246-b0f7-4df6-a9c4-0c8594063a5a"
      },
      "execution_count": 128,
      "outputs": [
        {
          "output_type": "execute_result",
          "data": {
            "text/plain": [
              "<matplotlib.axes._subplots.AxesSubplot at 0x7f8aad114610>"
            ]
          },
          "metadata": {},
          "execution_count": 128
        },
        {
          "output_type": "display_data",
          "data": {
            "text/plain": [
              "<Figure size 432x288 with 1 Axes>"
            ],
            "image/png": "[encoded data removed]"
          },
          "metadata": {
            "needs_background": "light"
          }
        }
      ]
    },
    {
      "cell_type": "code",
      "source": [
        "r_down.plot.kde()"
      ],
      "metadata": {
        "colab": {
          "base_uri": "https://localhost:8080/",
          "height": 307
        },
        "id": "1iEyUh2w6FuB",
        "outputId": "2c6ae56f-9ba0-4775-9c12-46b22661de4d"
      },
      "execution_count": 129,
      "outputs": [
        {
          "output_type": "execute_result",
          "data": {
            "text/plain": [
              "<matplotlib.axes._subplots.AxesSubplot at 0x7f8aad0828d0>"
            ]
          },
          "metadata": {},
          "execution_count": 129
        },
        {
          "output_type": "display_data",
          "data": {
            "text/plain": [
              "<Figure size 432x288 with 1 Axes>"
            ],
            "image/png": "[encoded data removed]"
          },
          "metadata": {
            "needs_background": "light"
          }
        }
      ]
    },
    {
      "cell_type": "code",
      "source": [
        "from scipy.stats import mannwhitneyu\n",
        "u_down_l=u_down.tolist()\n",
        "r_down_l=r_down.tolist()"
      ],
      "metadata": {
        "id": "93jM8Y_G6iW1"
      },
      "execution_count": 130,
      "outputs": []
    },
    {
      "cell_type": "code",
      "source": [
        "mannwhitneyu(u_down_l, r_down_l)"
      ],
      "metadata": {
        "colab": {
          "base_uri": "https://localhost:8080/"
        },
        "id": "3mlz5f_U7SKm",
        "outputId": "17ff6e21-bd02-4354-e6d0-f241279391da"
      },
      "execution_count": 131,
      "outputs": [
        {
          "output_type": "execute_result",
          "data": {
            "text/plain": [
              "MannwhitneyuResult(statistic=7242777973.5, pvalue=0.0)"
            ]
          },
          "metadata": {},
          "execution_count": 131
        }
      ]
    },
    {
      "cell_type": "code",
      "source": [
        "test2=data2.groupby(['quadkey','District','Underserved'])['avg_d_kbps'].mean().reset_index()"
      ],
      "metadata": {
        "id": "_82QA7lO-l10"
      },
      "execution_count": 132,
      "outputs": []
    },
    {
      "cell_type": "code",
      "source": [
        "test2.head()"
      ],
      "metadata": {
        "colab": {
          "base_uri": "https://localhost:8080/",
          "height": 206
        },
        "id": "MgKaqtJyCPCE",
        "outputId": "c1926bba-9fcd-4920-ebed-e99087b65251"
      },
      "execution_count": 133,
      "outputs": [
        {
          "output_type": "execute_result",
          "data": {
            "text/plain": [
              "          quadkey  District  Underserved    avg_d_kbps\n",
              "0  23331133131232         1         True   1859.000000\n",
              "1  23331133131233         1        False  18056.666667\n",
              "2  23331133131233         1         True  13207.000000\n",
              "3  23331133131301         1         True    903.500000\n",
              "4  23331133131303         1        False  25067.000000"
            ],
            "text/html": [
              "\n",
              "  <div id=\"df-9c9c6efc-cab4-42ae-8aac-6da136523b97\">\n",
              "    <div class=\"colab-df-container\">\n",
              "      <div>\n",
              "<style scoped>\n",
              "    .dataframe tbody tr th:only-of-type {\n",
              "        vertical-align: middle;\n",
              "    }\n",
              "\n",
              "    .dataframe tbody tr th {\n",
              "        vertical-align: top;\n",
              "    }\n",
              "\n",
              "    .dataframe thead th {\n",
              "        text-align: right;\n",
              "    }\n",
              "</style>\n",
              "<table border=\"1\" class=\"dataframe\">\n",
              "  <thead>\n",
              "    <tr style=\"text-align: right;\">\n",
              "      <th></th>\n",
              "      <th>quadkey</th>\n",
              "      <th>District</th>\n",
              "      <th>Underserved</th>\n",
              "      <th>avg_d_kbps</th>\n",
              "    </tr>\n",
              "  </thead>\n",
              "  <tbody>\n",
              "    <tr>\n",
              "      <th>0</th>\n",
              "      <td>23331133131232</td>\n",
              "      <td>1</td>\n",
              "      <td>True</td>\n",
              "      <td>1859.000000</td>\n",
              "    </tr>\n",
              "    <tr>\n",
              "      <th>1</th>\n",
              "      <td>23331133131233</td>\n",
              "      <td>1</td>\n",
              "      <td>False</td>\n",
              "      <td>18056.666667</td>\n",
              "    </tr>\n",
              "    <tr>\n",
              "      <th>2</th>\n",
              "      <td>23331133131233</td>\n",
              "      <td>1</td>\n",
              "      <td>True</td>\n",
              "      <td>13207.000000</td>\n",
              "    </tr>\n",
              "    <tr>\n",
              "      <th>3</th>\n",
              "      <td>23331133131301</td>\n",
              "      <td>1</td>\n",
              "      <td>True</td>\n",
              "      <td>903.500000</td>\n",
              "    </tr>\n",
              "    <tr>\n",
              "      <th>4</th>\n",
              "      <td>23331133131303</td>\n",
              "      <td>1</td>\n",
              "      <td>False</td>\n",
              "      <td>25067.000000</td>\n",
              "    </tr>\n",
              "  </tbody>\n",
              "</table>\n",
              "</div>\n",
              "      <button class=\"colab-df-convert\" onclick=\"convertToInteractive('df-9c9c6efc-cab4-42ae-8aac-6da136523b97')\"\n",
              "              title=\"Convert this dataframe to an interactive table.\"\n",
              "              style=\"display:none;\">\n",
              "        \n",
              "  <svg xmlns=\"http://www.w3.org/2000/svg\" height=\"24px\"viewBox=\"0 0 24 24\"\n",
              "       width=\"24px\">\n",
              "    <path d=\"M0 0h24v24H0V0z\" fill=\"none\"/>\n",
              "    <path d=\"M18.56 5.44l.94 2.06.94-2.06 2.06-.94-2.06-.94-.94-2.06-.94 2.06-2.06.94zm-11 1L8.5 8.5l.94-2.06 2.06-.94-2.06-.94L8.5 2.5l-.94 2.06-2.06.94zm10 10l.94 2.06.94-2.06 2.06-.94-2.06-.94-.94-2.06-.94 2.06-2.06.94z\"/><path d=\"M17.41 7.96l-1.37-1.37c-.4-.4-.92-.59-1.43-.59-.52 0-1.04.2-1.43.59L10.3 9.45l-7.72 7.72c-.78.78-.78 2.05 0 2.83L4 21.41c.39.39.9.59 1.41.59.51 0 1.02-.2 1.41-.59l7.78-7.78 2.81-2.81c.8-.78.8-2.07 0-2.86zM5.41 20L4 18.59l7.72-7.72 1.47 1.35L5.41 20z\"/>\n",
              "  </svg>\n",
              "      </button>\n",
              "      \n",
              "  <style>\n",
              "    .colab-df-container {\n",
              "      display:flex;\n",
              "      flex-wrap:wrap;\n",
              "      gap: 12px;\n",
              "    }\n",
              "\n",
              "    .colab-df-convert {\n",
              "      background-color: #E8F0FE;\n",
              "      border: none;\n",
              "      border-radius: 50%;\n",
              "      cursor: pointer;\n",
              "      display: none;\n",
              "      fill: #1967D2;\n",
              "      height: 32px;\n",
              "      padding: 0 0 0 0;\n",
              "      width: 32px;\n",
              "    }\n",
              "\n",
              "    .colab-df-convert:hover {\n",
              "      background-color: #E2EBFA;\n",
              "      box-shadow: 0px 1px 2px rgba(60, 64, 67, 0.3), 0px 1px 3px 1px rgba(60, 64, 67, 0.15);\n",
              "      fill: #174EA6;\n",
              "    }\n",
              "\n",
              "    [theme=dark] .colab-df-convert {\n",
              "      background-color: #3B4455;\n",
              "      fill: #D2E3FC;\n",
              "    }\n",
              "\n",
              "    [theme=dark] .colab-df-convert:hover {\n",
              "      background-color: #434B5C;\n",
              "      box-shadow: 0px 1px 3px 1px rgba(0, 0, 0, 0.15);\n",
              "      filter: drop-shadow(0px 1px 2px rgba(0, 0, 0, 0.3));\n",
              "      fill: #FFFFFF;\n",
              "    }\n",
              "  </style>\n",
              "\n",
              "      <script>\n",
              "        const buttonEl =\n",
              "          document.querySelector('#df-9c9c6efc-cab4-42ae-8aac-6da136523b97 button.colab-df-convert');\n",
              "        buttonEl.style.display =\n",
              "          google.colab.kernel.accessAllowed ? 'block' : 'none';\n",
              "\n",
              "        async function convertToInteractive(key) {\n",
              "          const element = document.querySelector('#df-9c9c6efc-cab4-42ae-8aac-6da136523b97');\n",
              "          const dataTable =\n",
              "            await google.colab.kernel.invokeFunction('convertToInteractive',\n",
              "                                                     [key], {});\n",
              "          if (!dataTable) return;\n",
              "\n",
              "          const docLinkHtml = 'Like what you see? Visit the ' +\n",
              "            '<a target=\"_blank\" href=https://colab.research.google.com/notebooks/data_table.ipynb>data table notebook</a>'\n",
              "            + ' to learn more about interactive tables.';\n",
              "          element.innerHTML = '';\n",
              "          dataTable['output_type'] = 'display_data';\n",
              "          await google.colab.output.renderOutput(dataTable, element);\n",
              "          const docLink = document.createElement('div');\n",
              "          docLink.innerHTML = docLinkHtml;\n",
              "          element.appendChild(docLink);\n",
              "        }\n",
              "      </script>\n",
              "    </div>\n",
              "  </div>\n",
              "  "
            ]
          },
          "metadata": {},
          "execution_count": 133
        }
      ]
    },
    {
      "cell_type": "code",
      "source": [
        "test2['Underserved'][0]==True"
      ],
      "metadata": {
        "colab": {
          "base_uri": "https://localhost:8080/"
        },
        "id": "ckmLlFLtCRqG",
        "outputId": "be3ad462-e945-4db6-ae16-b347cd3da8ed"
      },
      "execution_count": 135,
      "outputs": [
        {
          "output_type": "execute_result",
          "data": {
            "text/plain": [
              "True"
            ]
          },
          "metadata": {},
          "execution_count": 135
        }
      ]
    },
    {
      "cell_type": "code",
      "source": [
        "len(X)-len(test2)"
      ],
      "metadata": {
        "colab": {
          "base_uri": "https://localhost:8080/"
        },
        "id": "NFHwCGMsCjUq",
        "outputId": "3cefe7eb-fbbc-4aca-e4c6-aaa4f7a30453"
      },
      "execution_count": 137,
      "outputs": [
        {
          "output_type": "execute_result",
          "data": {
            "text/plain": [
              "2043709"
            ]
          },
          "metadata": {},
          "execution_count": 137
        }
      ]
    },
    {
      "cell_type": "markdown",
      "source": [
        "Kruskel_Wallis H-Test(Non-Parametric Anova)\n",
        "\n",
        "The Kruskal-Wallis H-test tests the null hypothesis that the population median of all of the groups are equal. "
      ],
      "metadata": {
        "id": "CMb3M3g7EF42"
      }
    },
    {
      "cell_type": "code",
      "source": [
        "def anova_list(dat):\n",
        "  result=[0]*len(dat)\n",
        "  for i in range(0,len(dat)):\n",
        "    if dat['District'][i]==1:\n",
        "      if dat['Underserved'][i]==True:\n",
        "        result[i]=\"ru\"\n",
        "      else:\n",
        "        result[i]=\"rs\"\n",
        "    else:\n",
        "      if dat['Underserved'][i]==True:\n",
        "        result[i]=\"uu\"\n",
        "      else:\n",
        "        result[i]=\"us\"\n",
        "  return(result)  \n"
      ],
      "metadata": {
        "id": "hZmuKqKpCZ1J"
      },
      "execution_count": 143,
      "outputs": []
    },
    {
      "cell_type": "code",
      "source": [
        "al=anova_list(test2)"
      ],
      "metadata": {
        "id": "TA8uWm99DfqD"
      },
      "execution_count": 144,
      "outputs": []
    },
    {
      "cell_type": "code",
      "source": [
        "test2['DU']=al"
      ],
      "metadata": {
        "id": "C9Hw-ZlZDnqG"
      },
      "execution_count": 145,
      "outputs": []
    },
    {
      "cell_type": "code",
      "source": [
        "test2.head()"
      ],
      "metadata": {
        "colab": {
          "base_uri": "https://localhost:8080/",
          "height": 206
        },
        "id": "Cl8u6gvgDuBH",
        "outputId": "63b59b2e-e447-4baa-9615-f3ed25d4e9d8"
      },
      "execution_count": 146,
      "outputs": [
        {
          "output_type": "execute_result",
          "data": {
            "text/plain": [
              "          quadkey  District  Underserved    avg_d_kbps  DU\n",
              "0  23331133131232         1         True   1859.000000  ru\n",
              "1  23331133131233         1        False  18056.666667  rs\n",
              "2  23331133131233         1         True  13207.000000  ru\n",
              "3  23331133131301         1         True    903.500000  ru\n",
              "4  23331133131303         1        False  25067.000000  rs"
            ],
            "text/html": [
              "\n",
              "  <div id=\"df-42f9bb9f-d516-4934-b1f8-44b5d5bada80\">\n",
              "    <div class=\"colab-df-container\">\n",
              "      <div>\n",
              "<style scoped>\n",
              "    .dataframe tbody tr th:only-of-type {\n",
              "        vertical-align: middle;\n",
              "    }\n",
              "\n",
              "    .dataframe tbody tr th {\n",
              "        vertical-align: top;\n",
              "    }\n",
              "\n",
              "    .dataframe thead th {\n",
              "        text-align: right;\n",
              "    }\n",
              "</style>\n",
              "<table border=\"1\" class=\"dataframe\">\n",
              "  <thead>\n",
              "    <tr style=\"text-align: right;\">\n",
              "      <th></th>\n",
              "      <th>quadkey</th>\n",
              "      <th>District</th>\n",
              "      <th>Underserved</th>\n",
              "      <th>avg_d_kbps</th>\n",
              "      <th>DU</th>\n",
              "    </tr>\n",
              "  </thead>\n",
              "  <tbody>\n",
              "    <tr>\n",
              "      <th>0</th>\n",
              "      <td>23331133131232</td>\n",
              "      <td>1</td>\n",
              "      <td>True</td>\n",
              "      <td>1859.000000</td>\n",
              "      <td>ru</td>\n",
              "    </tr>\n",
              "    <tr>\n",
              "      <th>1</th>\n",
              "      <td>23331133131233</td>\n",
              "      <td>1</td>\n",
              "      <td>False</td>\n",
              "      <td>18056.666667</td>\n",
              "      <td>rs</td>\n",
              "    </tr>\n",
              "    <tr>\n",
              "      <th>2</th>\n",
              "      <td>23331133131233</td>\n",
              "      <td>1</td>\n",
              "      <td>True</td>\n",
              "      <td>13207.000000</td>\n",
              "      <td>ru</td>\n",
              "    </tr>\n",
              "    <tr>\n",
              "      <th>3</th>\n",
              "      <td>23331133131301</td>\n",
              "      <td>1</td>\n",
              "      <td>True</td>\n",
              "      <td>903.500000</td>\n",
              "      <td>ru</td>\n",
              "    </tr>\n",
              "    <tr>\n",
              "      <th>4</th>\n",
              "      <td>23331133131303</td>\n",
              "      <td>1</td>\n",
              "      <td>False</td>\n",
              "      <td>25067.000000</td>\n",
              "      <td>rs</td>\n",
              "    </tr>\n",
              "  </tbody>\n",
              "</table>\n",
              "</div>\n",
              "      <button class=\"colab-df-convert\" onclick=\"convertToInteractive('df-42f9bb9f-d516-4934-b1f8-44b5d5bada80')\"\n",
              "              title=\"Convert this dataframe to an interactive table.\"\n",
              "              style=\"display:none;\">\n",
              "        \n",
              "  <svg xmlns=\"http://www.w3.org/2000/svg\" height=\"24px\"viewBox=\"0 0 24 24\"\n",
              "       width=\"24px\">\n",
              "    <path d=\"M0 0h24v24H0V0z\" fill=\"none\"/>\n",
              "    <path d=\"M18.56 5.44l.94 2.06.94-2.06 2.06-.94-2.06-.94-.94-2.06-.94 2.06-2.06.94zm-11 1L8.5 8.5l.94-2.06 2.06-.94-2.06-.94L8.5 2.5l-.94 2.06-2.06.94zm10 10l.94 2.06.94-2.06 2.06-.94-2.06-.94-.94-2.06-.94 2.06-2.06.94z\"/><path d=\"M17.41 7.96l-1.37-1.37c-.4-.4-.92-.59-1.43-.59-.52 0-1.04.2-1.43.59L10.3 9.45l-7.72 7.72c-.78.78-.78 2.05 0 2.83L4 21.41c.39.39.9.59 1.41.59.51 0 1.02-.2 1.41-.59l7.78-7.78 2.81-2.81c.8-.78.8-2.07 0-2.86zM5.41 20L4 18.59l7.72-7.72 1.47 1.35L5.41 20z\"/>\n",
              "  </svg>\n",
              "      </button>\n",
              "      \n",
              "  <style>\n",
              "    .colab-df-container {\n",
              "      display:flex;\n",
              "      flex-wrap:wrap;\n",
              "      gap: 12px;\n",
              "    }\n",
              "\n",
              "    .colab-df-convert {\n",
              "      background-color: #E8F0FE;\n",
              "      border: none;\n",
              "      border-radius: 50%;\n",
              "      cursor: pointer;\n",
              "      display: none;\n",
              "      fill: #1967D2;\n",
              "      height: 32px;\n",
              "      padding: 0 0 0 0;\n",
              "      width: 32px;\n",
              "    }\n",
              "\n",
              "    .colab-df-convert:hover {\n",
              "      background-color: #E2EBFA;\n",
              "      box-shadow: 0px 1px 2px rgba(60, 64, 67, 0.3), 0px 1px 3px 1px rgba(60, 64, 67, 0.15);\n",
              "      fill: #174EA6;\n",
              "    }\n",
              "\n",
              "    [theme=dark] .colab-df-convert {\n",
              "      background-color: #3B4455;\n",
              "      fill: #D2E3FC;\n",
              "    }\n",
              "\n",
              "    [theme=dark] .colab-df-convert:hover {\n",
              "      background-color: #434B5C;\n",
              "      box-shadow: 0px 1px 3px 1px rgba(0, 0, 0, 0.15);\n",
              "      filter: drop-shadow(0px 1px 2px rgba(0, 0, 0, 0.3));\n",
              "      fill: #FFFFFF;\n",
              "    }\n",
              "  </style>\n",
              "\n",
              "      <script>\n",
              "        const buttonEl =\n",
              "          document.querySelector('#df-42f9bb9f-d516-4934-b1f8-44b5d5bada80 button.colab-df-convert');\n",
              "        buttonEl.style.display =\n",
              "          google.colab.kernel.accessAllowed ? 'block' : 'none';\n",
              "\n",
              "        async function convertToInteractive(key) {\n",
              "          const element = document.querySelector('#df-42f9bb9f-d516-4934-b1f8-44b5d5bada80');\n",
              "          const dataTable =\n",
              "            await google.colab.kernel.invokeFunction('convertToInteractive',\n",
              "                                                     [key], {});\n",
              "          if (!dataTable) return;\n",
              "\n",
              "          const docLinkHtml = 'Like what you see? Visit the ' +\n",
              "            '<a target=\"_blank\" href=https://colab.research.google.com/notebooks/data_table.ipynb>data table notebook</a>'\n",
              "            + ' to learn more about interactive tables.';\n",
              "          element.innerHTML = '';\n",
              "          dataTable['output_type'] = 'display_data';\n",
              "          await google.colab.output.renderOutput(dataTable, element);\n",
              "          const docLink = document.createElement('div');\n",
              "          docLink.innerHTML = docLinkHtml;\n",
              "          element.appendChild(docLink);\n",
              "        }\n",
              "      </script>\n",
              "    </div>\n",
              "  </div>\n",
              "  "
            ]
          },
          "metadata": {},
          "execution_count": 146
        }
      ]
    },
    {
      "cell_type": "markdown",
      "source": [
        ""
      ],
      "metadata": {
        "id": "qG6I-lhzD69K"
      }
    },
    {
      "cell_type": "code",
      "source": [
        "ru=[]\n",
        "rs=[]\n",
        "uu=[]\n",
        "us=[]"
      ],
      "metadata": {
        "id": "4mZI0Y3JD5WX"
      },
      "execution_count": 170,
      "outputs": []
    },
    {
      "cell_type": "code",
      "source": [
        "for i in range(0, len(test2)):\n",
        "  if test2['DU'][i]=='ru':\n",
        "    ru.append(test2['avg_d_kbps'][i])\n",
        "  elif test2['DU'][i]=='rs':\n",
        "    rs.append(test2['avg_d_kbps'][i])\n",
        "  elif test2['DU'][i]=='uu':\n",
        "    uu.append(test2['avg_d_kbps'][i])\n",
        "  else:\n",
        "    us.append(test2['avg_d_kbps'][i])"
      ],
      "metadata": {
        "id": "ALNYiue4FAbO"
      },
      "execution_count": 171,
      "outputs": []
    },
    {
      "cell_type": "code",
      "source": [
        "from scipy import stats\n",
        "stats.kruskal(ru,rs,uu,us)"
      ],
      "metadata": {
        "colab": {
          "base_uri": "https://localhost:8080/"
        },
        "id": "JUkXaJn9EsE-",
        "outputId": "48a0aed1-75bf-49ab-9e1e-3d7d88211c62"
      },
      "execution_count": 173,
      "outputs": [
        {
          "output_type": "execute_result",
          "data": {
            "text/plain": [
              "KruskalResult(statistic=381655.69135850505, pvalue=0.0)"
            ]
          },
          "metadata": {},
          "execution_count": 173
        }
      ]
    },
    {
      "cell_type": "markdown",
      "source": [
        "P-value small, reject null, population median(median of mean of avg_d_kbps) is different for one or more groups"
      ],
      "metadata": {
        "id": "f9r0Gf5kFvLv"
      }
    },
    {
      "cell_type": "markdown",
      "source": [
        "Dunn's Test (Non-Parametric Tukey HSD Test)\n",
        "\n",
        "$H_0:$ There is no difference between groups (groups can be equal or unequal in size).\n",
        "\n",
        "$H_a:$ There is a difference between groups."
      ],
      "metadata": {
        "id": "fjqc2HAnIn0O"
      }
    },
    {
      "cell_type": "code",
      "source": [
        "x=[ru,rs,uu,us]"
      ],
      "metadata": {
        "id": "hNxaefTOG4eh"
      },
      "execution_count": 174,
      "outputs": []
    },
    {
      "cell_type": "code",
      "source": [
        "#!pip install scikit_posthocs\n",
        "import scikit_posthocs as sp"
      ],
      "metadata": {
        "id": "D5c-YSmiHK87"
      },
      "execution_count": 175,
      "outputs": []
    },
    {
      "cell_type": "code",
      "source": [
        "sp.posthoc_dunn(x,p_adjust = 'holm-sidak')"
      ],
      "metadata": {
        "colab": {
          "base_uri": "https://localhost:8080/",
          "height": 175
        },
        "id": "CYC00oqnG-vT",
        "outputId": "1209e909-6c68-4f56-ae1c-78ed5bfc71c9"
      },
      "execution_count": 178,
      "outputs": [
        {
          "output_type": "execute_result",
          "data": {
            "text/plain": [
              "         1    2        3    4\n",
              "1  1.00000  0.0  0.00123  0.0\n",
              "2  0.00000  1.0  0.00000  0.0\n",
              "3  0.00123  0.0  1.00000  0.0\n",
              "4  0.00000  0.0  0.00000  1.0"
            ],
            "text/html": [
              "\n",
              "  <div id=\"df-f15bf764-012c-4740-bc1d-3a7bb5dc1410\">\n",
              "    <div class=\"colab-df-container\">\n",
              "      <div>\n",
              "<style scoped>\n",
              "    .dataframe tbody tr th:only-of-type {\n",
              "        vertical-align: middle;\n",
              "    }\n",
              "\n",
              "    .dataframe tbody tr th {\n",
              "        vertical-align: top;\n",
              "    }\n",
              "\n",
              "    .dataframe thead th {\n",
              "        text-align: right;\n",
              "    }\n",
              "</style>\n",
              "<table border=\"1\" class=\"dataframe\">\n",
              "  <thead>\n",
              "    <tr style=\"text-align: right;\">\n",
              "      <th></th>\n",
              "      <th>1</th>\n",
              "      <th>2</th>\n",
              "      <th>3</th>\n",
              "      <th>4</th>\n",
              "    </tr>\n",
              "  </thead>\n",
              "  <tbody>\n",
              "    <tr>\n",
              "      <th>1</th>\n",
              "      <td>1.00000</td>\n",
              "      <td>0.0</td>\n",
              "      <td>0.00123</td>\n",
              "      <td>0.0</td>\n",
              "    </tr>\n",
              "    <tr>\n",
              "      <th>2</th>\n",
              "      <td>0.00000</td>\n",
              "      <td>1.0</td>\n",
              "      <td>0.00000</td>\n",
              "      <td>0.0</td>\n",
              "    </tr>\n",
              "    <tr>\n",
              "      <th>3</th>\n",
              "      <td>0.00123</td>\n",
              "      <td>0.0</td>\n",
              "      <td>1.00000</td>\n",
              "      <td>0.0</td>\n",
              "    </tr>\n",
              "    <tr>\n",
              "      <th>4</th>\n",
              "      <td>0.00000</td>\n",
              "      <td>0.0</td>\n",
              "      <td>0.00000</td>\n",
              "      <td>1.0</td>\n",
              "    </tr>\n",
              "  </tbody>\n",
              "</table>\n",
              "</div>\n",
              "      <button class=\"colab-df-convert\" onclick=\"convertToInteractive('df-f15bf764-012c-4740-bc1d-3a7bb5dc1410')\"\n",
              "              title=\"Convert this dataframe to an interactive table.\"\n",
              "              style=\"display:none;\">\n",
              "        \n",
              "  <svg xmlns=\"http://www.w3.org/2000/svg\" height=\"24px\"viewBox=\"0 0 24 24\"\n",
              "       width=\"24px\">\n",
              "    <path d=\"M0 0h24v24H0V0z\" fill=\"none\"/>\n",
              "    <path d=\"M18.56 5.44l.94 2.06.94-2.06 2.06-.94-2.06-.94-.94-2.06-.94 2.06-2.06.94zm-11 1L8.5 8.5l.94-2.06 2.06-.94-2.06-.94L8.5 2.5l-.94 2.06-2.06.94zm10 10l.94 2.06.94-2.06 2.06-.94-2.06-.94-.94-2.06-.94 2.06-2.06.94z\"/><path d=\"M17.41 7.96l-1.37-1.37c-.4-.4-.92-.59-1.43-.59-.52 0-1.04.2-1.43.59L10.3 9.45l-7.72 7.72c-.78.78-.78 2.05 0 2.83L4 21.41c.39.39.9.59 1.41.59.51 0 1.02-.2 1.41-.59l7.78-7.78 2.81-2.81c.8-.78.8-2.07 0-2.86zM5.41 20L4 18.59l7.72-7.72 1.47 1.35L5.41 20z\"/>\n",
              "  </svg>\n",
              "      </button>\n",
              "      \n",
              "  <style>\n",
              "    .colab-df-container {\n",
              "      display:flex;\n",
              "      flex-wrap:wrap;\n",
              "      gap: 12px;\n",
              "    }\n",
              "\n",
              "    .colab-df-convert {\n",
              "      background-color: #E8F0FE;\n",
              "      border: none;\n",
              "      border-radius: 50%;\n",
              "      cursor: pointer;\n",
              "      display: none;\n",
              "      fill: #1967D2;\n",
              "      height: 32px;\n",
              "      padding: 0 0 0 0;\n",
              "      width: 32px;\n",
              "    }\n",
              "\n",
              "    .colab-df-convert:hover {\n",
              "      background-color: #E2EBFA;\n",
              "      box-shadow: 0px 1px 2px rgba(60, 64, 67, 0.3), 0px 1px 3px 1px rgba(60, 64, 67, 0.15);\n",
              "      fill: #174EA6;\n",
              "    }\n",
              "\n",
              "    [theme=dark] .colab-df-convert {\n",
              "      background-color: #3B4455;\n",
              "      fill: #D2E3FC;\n",
              "    }\n",
              "\n",
              "    [theme=dark] .colab-df-convert:hover {\n",
              "      background-color: #434B5C;\n",
              "      box-shadow: 0px 1px 3px 1px rgba(0, 0, 0, 0.15);\n",
              "      filter: drop-shadow(0px 1px 2px rgba(0, 0, 0, 0.3));\n",
              "      fill: #FFFFFF;\n",
              "    }\n",
              "  </style>\n",
              "\n",
              "      <script>\n",
              "        const buttonEl =\n",
              "          document.querySelector('#df-f15bf764-012c-4740-bc1d-3a7bb5dc1410 button.colab-df-convert');\n",
              "        buttonEl.style.display =\n",
              "          google.colab.kernel.accessAllowed ? 'block' : 'none';\n",
              "\n",
              "        async function convertToInteractive(key) {\n",
              "          const element = document.querySelector('#df-f15bf764-012c-4740-bc1d-3a7bb5dc1410');\n",
              "          const dataTable =\n",
              "            await google.colab.kernel.invokeFunction('convertToInteractive',\n",
              "                                                     [key], {});\n",
              "          if (!dataTable) return;\n",
              "\n",
              "          const docLinkHtml = 'Like what you see? Visit the ' +\n",
              "            '<a target=\"_blank\" href=https://colab.research.google.com/notebooks/data_table.ipynb>data table notebook</a>'\n",
              "            + ' to learn more about interactive tables.';\n",
              "          element.innerHTML = '';\n",
              "          dataTable['output_type'] = 'display_data';\n",
              "          await google.colab.output.renderOutput(dataTable, element);\n",
              "          const docLink = document.createElement('div');\n",
              "          docLink.innerHTML = docLinkHtml;\n",
              "          element.appendChild(docLink);\n",
              "        }\n",
              "      </script>\n",
              "    </div>\n",
              "  </div>\n",
              "  "
            ]
          },
          "metadata": {},
          "execution_count": 178
        }
      ]
    },
    {
      "cell_type": "markdown",
      "source": [
        "P-value small for all groups. Reject null hypothesis. There is a difference between all group pairs."
      ],
      "metadata": {
        "id": "jTg60XPeKG0E"
      }
    }
  ]
}